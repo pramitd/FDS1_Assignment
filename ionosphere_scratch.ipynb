{
 "cells": [
  {
   "cell_type": "code",
   "execution_count": 1,
   "metadata": {},
   "outputs": [],
   "source": [
    "import os\n",
    "import numpy as np\n",
    "import pandas as pd\n",
    "import matplotlib.pyplot as plt\n",
    "from sklearn.model_selection import train_test_split\n",
    "from sklearn.model_selection import cross_val_score\n",
    "from sklearn.metrics import confusion_matrix, accuracy_score, classification_report\n",
    "from imblearn.over_sampling import SMOTE\n",
    "from sklearn.preprocessing import normalize"
   ]
  },
  {
   "cell_type": "markdown",
   "metadata": {},
   "source": [
    "# Function to Find the Heidke Score from Confusion Matrix"
   ]
  },
  {
   "cell_type": "code",
   "execution_count": 2,
   "metadata": {},
   "outputs": [],
   "source": [
    "def findHeidkeScore(confMat):\n",
    "    TP = confMat[1][1]\n",
    "    TN = confMat[0][0]\n",
    "    FN = confMat[1][0]\n",
    "    FP = confMat[0][1]\n",
    "    HSS = 2.*((TP*TN) - (FN*FP))/((TP + FN)*(FN + TN) + (TP + FP)*(FP + TN)) # Heidke Skill Score\n",
    "    #TSS = (TP/(TP + FN)) - (FP/(FP + TN)) # True Skill Score\n",
    "    #BIAS = (TP + FP)/(TP + FN) # Bias of Detection\n",
    "    #POD = TP/(TP + FN) # Probability of Detection\n",
    "    #POFD = FP/(TN + FP) # Probablity of False Detection\n",
    "    #FAR = FP/(TP + FP) # False Alarm Ratio\n",
    "    #TS = TP/(TP + FN + FP) # Threat Score\n",
    "    #OR = (TP*TN)/(FN*FP) # Odds Ratio\n",
    "    return HSS\n",
    "\n",
    "def findThreatScore(confMat):\n",
    "    #How well did the forecast \"yes\" events correspond to the observed \"yes\" events?\n",
    "    TP = confMat[1][1]\n",
    "    TN = confMat[0][0]\n",
    "    FN = confMat[1][0]\n",
    "    FP = confMat[0][1]\n",
    "    TS = (TP/(TP + FN)) - (FP/(FP + TN))\n",
    "    return TS"
   ]
  },
  {
   "cell_type": "code",
   "execution_count": 3,
   "metadata": {},
   "outputs": [],
   "source": [
    "#=====Data Reading=====#\n",
    "# Identify the directory path of this python program\n",
    "#dir_path = os.path.dirname(os.path.realpath(__file__))\n",
    "\n",
    "# Read in a csv to pandas dataframe\n",
    "df = pd.read_csv('ionosphere.data', header = None)"
   ]
  },
  {
   "cell_type": "code",
   "execution_count": 4,
   "metadata": {},
   "outputs": [
    {
     "name": "stdout",
     "output_type": "stream",
     "text": [
      "   0   1        2        3        4        5        6        7    8        9   \\\n",
      "0   1   0  0.99539 -0.05889  0.85243  0.02306  0.83398 -0.37708  1.0  0.03760   \n",
      "1   1   0  1.00000 -0.18829  0.93035 -0.36156 -0.10868 -0.93597  1.0 -0.04549   \n",
      "\n",
      "   ...       25       26       27       28       29       30       31  \\\n",
      "0  ... -0.51171  0.41078 -0.46168  0.21266 -0.34090  0.42267 -0.54487   \n",
      "1  ... -0.26569 -0.20468 -0.18401 -0.19040 -0.11593 -0.16626 -0.06288   \n",
      "\n",
      "        32       33  34  \n",
      "0  0.18641 -0.45300   g  \n",
      "1 -0.13738 -0.02447   b  \n",
      "\n",
      "[2 rows x 35 columns]\n"
     ]
    }
   ],
   "source": [
    "print(df.head(2))"
   ]
  },
  {
   "cell_type": "code",
   "execution_count": 5,
   "metadata": {},
   "outputs": [],
   "source": [
    "#=====Data Processing=====#\n",
    "# Recategorize the classification labels into a binary classifier\n",
    "categ = {\"g\" : 1, \"b\" : 0}\n",
    "df[34] = [categ[item] for item in df[34]]"
   ]
  },
  {
   "cell_type": "code",
   "execution_count": 6,
   "metadata": {},
   "outputs": [
    {
     "name": "stdout",
     "output_type": "stream",
     "text": [
      "   0   1        2        3        4        5        6        7    8        9   \\\n",
      "0   1   0  0.99539 -0.05889  0.85243  0.02306  0.83398 -0.37708  1.0  0.03760   \n",
      "1   1   0  1.00000 -0.18829  0.93035 -0.36156 -0.10868 -0.93597  1.0 -0.04549   \n",
      "\n",
      "   ...       25       26       27       28       29       30       31  \\\n",
      "0  ... -0.51171  0.41078 -0.46168  0.21266 -0.34090  0.42267 -0.54487   \n",
      "1  ... -0.26569 -0.20468 -0.18401 -0.19040 -0.11593 -0.16626 -0.06288   \n",
      "\n",
      "        32       33  34  \n",
      "0  0.18641 -0.45300   1  \n",
      "1 -0.13738 -0.02447   0  \n",
      "\n",
      "[2 rows x 35 columns]\n"
     ]
    }
   ],
   "source": [
    "print(df.head(2))"
   ]
  },
  {
   "cell_type": "code",
   "execution_count": null,
   "metadata": {},
   "outputs": [],
   "source": [
    "print(df.iloc[0:350,0:33])"
   ]
  },
  {
   "cell_type": "markdown",
   "metadata": {},
   "source": [
    "# Spliting the Data Set"
   ]
  },
  {
   "cell_type": "code",
   "execution_count": 7,
   "metadata": {},
   "outputs": [
    {
     "name": "stdout",
     "output_type": "stream",
     "text": [
      "Before OverSampling, counts of label '1': 154\n",
      "Before OverSampling, counts of label '0': 81 \n",
      "\n"
     ]
    }
   ],
   "source": [
    "# Seperate inputs and outputs\n",
    "labels = df[34]\n",
    "inputs = df.drop([34],axis=1)\n",
    "\n",
    "# Seperate data into a training/test set\n",
    "input_train, input_test, output_train, output_test = train_test_split(inputs, \n",
    "                                                                      labels, test_size=0.33, \n",
    "                                                                      random_state=42)\n",
    "\n",
    "\n",
    "\n",
    "print(\"Before OverSampling, counts of label '1': {}\".format(sum(output_train==1)))\n",
    "print(\"Before OverSampling, counts of label '0': {} \\n\".format(sum(output_train==0)))"
   ]
  },
  {
   "cell_type": "markdown",
   "metadata": {},
   "source": [
    "# SVC Without PCA"
   ]
  },
  {
   "cell_type": "markdown",
   "metadata": {},
   "source": [
    "## SVC on the Original DataSet -- Without Resample"
   ]
  },
  {
   "cell_type": "code",
   "execution_count": 11,
   "metadata": {},
   "outputs": [
    {
     "name": "stdout",
     "output_type": "stream",
     "text": [
      "[[38  7]\n",
      " [ 0 71]]\n"
     ]
    }
   ],
   "source": [
    "from sklearn.svm import SVC\n",
    "modelOriginal = SVC()\n",
    "histOriginal = modelOriginal.fit(input_train,output_train)\n",
    "predictionsOriginal = modelOriginal.predict(input_test)\n",
    "confMatSVCOriginal = confusion_matrix(output_test,predictionsOriginal)\n",
    "print(confMatSVCOriginal)"
   ]
  },
  {
   "cell_type": "markdown",
   "metadata": {},
   "source": [
    "## SVC on the Resampled DataSet"
   ]
  },
  {
   "cell_type": "code",
   "execution_count": 12,
   "metadata": {},
   "outputs": [
    {
     "name": "stdout",
     "output_type": "stream",
     "text": [
      "After OverSampling, counts of label '1': 154\n",
      "After OverSampling, counts of label '0': 154 \n",
      "\n",
      "[[41  4]\n",
      " [ 0 71]]\n"
     ]
    }
   ],
   "source": [
    "sm = SMOTE(random_state = 27, sampling_strategy = 1.0)\n",
    "input_train_res,output_train_res = sm.fit_resample(input_train,output_train)\n",
    "print(\"After OverSampling, counts of label '1': {}\".format(sum(output_train_res==1)))\n",
    "print(\"After OverSampling, counts of label '0': {} \\n\".format(sum(output_train_res==0)))\n",
    "modelResample = SVC()\n",
    "histResample = modelResample.fit(input_train_res,output_train_res)\n",
    "predictionsResample = modelResample.predict(input_test)\n",
    "confMatSVCResample = confusion_matrix(output_test,predictionsResample)\n",
    "print(confMatSVCResample)"
   ]
  },
  {
   "cell_type": "markdown",
   "metadata": {},
   "source": [
    "# Introducing PCA"
   ]
  },
  {
   "cell_type": "code",
   "execution_count": 13,
   "metadata": {},
   "outputs": [
    {
     "data": {
      "image/png": "[encoded data removed]",
      "text/plain": [
       "<Figure size 432x288 with 1 Axes>"
      ]
     },
     "metadata": {
      "needs_background": "light"
     },
     "output_type": "display_data"
    },
    {
     "name": "stdout",
     "output_type": "stream",
     "text": [
      "(235, 34)\n",
      "(235, 17)\n"
     ]
    }
   ],
   "source": [
    "#Dimentioanlity reduction\n",
    "from sklearn.decomposition import PCA\n",
    "pca = PCA() \n",
    "\n",
    "input_train = pca.fit_transform(input_train)\n",
    "input_test = pca.transform(input_test)\n",
    "total=sum(pca.explained_variance_)\n",
    "\n",
    "plt.figure()\n",
    "plt.plot(np.cumsum(pca.explained_variance_ratio_))\n",
    "plt.xlabel('Number of Components')\n",
    "plt.ylabel('Variance (%)') #for each component\n",
    "plt.title('Ionosphere Dataset Explained Variance')\n",
    "plt.show()\n",
    "\n",
    "k=0\n",
    "current_variance=0\n",
    "while current_variance/total < 0.90:\n",
    "    current_variance += pca.explained_variance_[k]\n",
    "    k=k+1\n",
    "\n",
    "#Apply PCA with n_components\n",
    "pca = PCA(n_components=k)\n",
    "\n",
    "print(input_train.shape)\n",
    "input_train_PCA = pca.fit_transform(input_train)\n",
    "input_test_PCA = pca.transform(input_test)\n",
    "print(input_train_PCA.shape)"
   ]
  },
  {
   "cell_type": "markdown",
   "metadata": {},
   "source": [
    "## Using PCA on the original dataset without Resampling"
   ]
  },
  {
   "cell_type": "code",
   "execution_count": 14,
   "metadata": {},
   "outputs": [
    {
     "name": "stdout",
     "output_type": "stream",
     "text": [
      "[[39  6]\n",
      " [ 0 71]]\n"
     ]
    }
   ],
   "source": [
    "modelOriginalPCA = SVC()\n",
    "histOriginalPCA = modelOriginalPCA.fit(input_train_PCA,output_train)\n",
    "predictionsOriginalPCA = modelOriginalPCA.predict(input_test_PCA)\n",
    "confMatSVCOriginalPCA = confusion_matrix(output_test,predictionsOriginalPCA)\n",
    "print(confMatSVCOriginalPCA)"
   ]
  },
  {
   "cell_type": "markdown",
   "metadata": {},
   "source": [
    "## Using PCA with Resampling"
   ]
  },
  {
   "cell_type": "code",
   "execution_count": 18,
   "metadata": {},
   "outputs": [
    {
     "name": "stdout",
     "output_type": "stream",
     "text": [
      "(308, 34)\n",
      "(308, 17)\n",
      "[[41  4]\n",
      " [14 57]]\n"
     ]
    }
   ],
   "source": [
    "print(input_train_res.shape)\n",
    "input_train_res_PCA = pca.fit_transform(input_train_res)\n",
    "input_test_res_PCA = pca.transform(input_test)\n",
    "print(input_train_res_PCA.shape)\n",
    "c=1\n",
    "def evaluateSVC(c):\n",
    "    modelResamplePCA = SVC(C=c,degree=2)\n",
    "    histResamplePCA = modelResamplePCA.fit(input_train_res_PCA,output_train_res)\n",
    "    predictionsResamplePCA = modelResamplePCA.predict(input_test_PCA)\n",
    "    confMatSVCResamplePCA = confusion_matrix(output_test,predictionsResamplePCA)\n",
    "    #print(confMatSVCResamplePCA)\n",
    "    return confMatSVCResamplePCA\n",
    "\n",
    "print(evaluateSVC(c))"
   ]
  },
  {
   "cell_type": "markdown",
   "metadata": {},
   "source": [
    "## Checking the Effect of Hyper-paramer 'c' on Classifier"
   ]
  },
  {
   "cell_type": "code",
   "execution_count": 19,
   "metadata": {
    "scrolled": true
   },
   "outputs": [
    {
     "name": "stdout",
     "output_type": "stream",
     "text": [
      "TN  FP  FN  TP\n",
      "[[41.  4. 14. 57.]\n",
      " [41.  4. 12. 59.]\n",
      " [42.  3. 10. 61.]\n",
      " [41.  4.  7. 64.]\n",
      " [40.  5.  7. 64.]\n",
      " [40.  5.  7. 64.]\n",
      " [39.  6.  7. 64.]\n",
      " [38.  7.  7. 64.]\n",
      " [37.  8.  8. 63.]\n",
      " [37.  8.  8. 63.]\n",
      " [37.  8.  8. 63.]\n",
      " [37.  8.  9. 62.]\n",
      " [37.  8.  9. 62.]\n",
      " [37.  8.  9. 62.]\n",
      " [37.  8.  9. 62.]\n",
      " [37.  8.  9. 62.]\n",
      " [37.  8.  9. 62.]\n",
      " [37.  8.  9. 62.]\n",
      " [37.  8.  9. 62.]]\n",
      "[[0.68601504]\n",
      " [0.71870264]\n",
      " [0.77054169]\n",
      " [0.80272109]\n",
      " [0.78391804]\n",
      " [0.78391804]\n",
      " [0.76496259]\n",
      " [0.7458529 ]\n",
      " [0.70954617]\n",
      " [0.70954617]\n",
      " [0.70954617]\n",
      " [0.69264339]\n",
      " [0.69264339]\n",
      " [0.69264339]\n",
      " [0.69264339]\n",
      " [0.69264339]\n",
      " [0.69264339]\n",
      " [0.69264339]\n",
      " [0.69264339]]\n",
      "[[0.71392801]\n",
      " [0.74209703]\n",
      " [0.79248826]\n",
      " [0.81251956]\n",
      " [0.79029734]\n",
      " [0.79029734]\n",
      " [0.76807512]\n",
      " [0.7458529 ]\n",
      " [0.70954617]\n",
      " [0.70954617]\n",
      " [0.70954617]\n",
      " [0.69546166]\n",
      " [0.69546166]\n",
      " [0.69546166]\n",
      " [0.69546166]\n",
      " [0.69546166]\n",
      " [0.69546166]\n",
      " [0.69546166]\n",
      " [0.69546166]]\n"
     ]
    },
    {
     "data": {
      "image/png": "[encoded data removed]",
      "text/plain": [
       "<Figure size 432x288 with 1 Axes>"
      ]
     },
     "metadata": {
      "needs_background": "light"
     },
     "output_type": "display_data"
    },
    {
     "data": {
      "image/png": "[encoded data removed]",
      "text/plain": [
       "<Figure size 432x288 with 1 Axes>"
      ]
     },
     "metadata": {
      "needs_background": "light"
     },
     "output_type": "display_data"
    }
   ],
   "source": [
    "confMatVariation = np.zeros((19,4))\n",
    "HSSVariation = np.zeros((19,1)) #Store the Heidke Score\n",
    "TSSVariation = np.zeros((19,1)) #Store the Threat Score\n",
    "\n",
    "for c in range(1, 20):\n",
    "    confMat = evaluateSVC(c)\n",
    "    confMatVariation[c-1]=confMat.ravel()\n",
    "    HSSVariation[c-1] = findHeidkeScore(confMat)\n",
    "    TSSVariation[c-1] = findThreatScore(confMat)\n",
    "\n",
    "print('TN ','FP ','FN ','TP')\n",
    "print(confMatVariation)\n",
    "print(HSSVariation)\n",
    "print(TSSVariation)\n",
    "# Plot Heidke Score Variation with C\n",
    "plt.figure()\n",
    "plt.plot(HSSVariation)\n",
    "plt.xlabel('C')\n",
    "plt.ylabel('HEIDKE SCORE')\n",
    "plt.title('VARIATION OF HEIDKE SCORE WITH C')\n",
    "plt.xticks(np.arange(1, 20, 1.0))\n",
    "plt.show()\n",
    "\n",
    "# Plot Threat Score Variation with C\n",
    "plt.figure()\n",
    "plt.plot(TSSVariation)\n",
    "plt.xlabel('C')\n",
    "plt.ylabel('TRUE SKILL SCORE')\n",
    "plt.title('VARIATION OF TRUE SKILL SCORE WITH C')\n",
    "plt.xticks(np.arange(1, 20, 1.0))\n",
    "plt.show()"
   ]
  },
  {
   "cell_type": "markdown",
   "metadata": {},
   "source": [
    "### Evaluating SVC with C = 4 , Optimized from Above Exercise"
   ]
  },
  {
   "cell_type": "code",
   "execution_count": 20,
   "metadata": {},
   "outputs": [],
   "source": [
    "confMatSVCResamplePCA = evaluateSVC(4)"
   ]
  },
  {
   "cell_type": "markdown",
   "metadata": {},
   "source": [
    "## Results of SVC on the Dataset"
   ]
  },
  {
   "cell_type": "code",
   "execution_count": 21,
   "metadata": {},
   "outputs": [
    {
     "name": "stdout",
     "output_type": "stream",
     "text": [
      "SVC Results                    HSS             TSS       \n",
      "Original Data Set              0.869           0.844     \n",
      "Resampled Dataset              0.926           0.911     \n",
      "Original Dataset with PCA      0.888           0.867     \n",
      "Resampled Dataset with PCA     0.803           0.813     \n",
      "Perfect Score                  1.0             1.0       \n"
     ]
    }
   ],
   "source": [
    "dfResultSVC = {1: [\"SVC Results\",\"HSS\",\"TSS\"],\n",
    "               2:[\"Original Data Set\",round(findHeidkeScore(confMatSVCOriginal),3),round(findThreatScore(confMatSVCOriginal),3)],\n",
    "               3:[\"Resampled Dataset\",round(findHeidkeScore(confMatSVCResample),3),round(findThreatScore(confMatSVCResample),3)],\n",
    "               4: [\"Original Dataset with PCA\",round(findHeidkeScore(confMatSVCOriginalPCA),3),round(findThreatScore(confMatSVCOriginalPCA),3)],\n",
    "               5: [\"Resampled Dataset with PCA\",round(findHeidkeScore(confMatSVCResamplePCA),3),round(findThreatScore(confMatSVCResamplePCA),3)],\n",
    "               6: [\"Perfect Score\",1.000,1.000]\n",
    "              }\n",
    "\n",
    "#print(dfResultSVC.items())\n",
    "for k, v in dfResultSVC.items():\n",
    "    c1,c2,c3 = v\n",
    "    print (\"{:<30} {:<15} {:<10}\".format(c1, c2, c3))\n",
    "\n",
    "\n",
    "\n",
    "\n",
    "#print('HSS - SVC on Original Dataset:',findHeidkeScore(confMatSVCOriginal),'TSS - SVC on Origianl Dataset:',findThreatScore(confMatSVCOriginal))\n",
    "#print('HSS - SVC on Resampled Dataset:',findHeidkeScore(confMatSVCResample),'TSS - SVC on Resampled Dataset:',findThreatScore(confMatSVCResample))\n",
    "#print('HSS - SVC on Original Dataset with PCA:',findHeidkeScore(confMatSVCOriginalPCA),'TSS - SVC on Original Dataset with PCA:',findThreatScore(confMatSVCOriginalPCA))\n",
    "#print('HSS - SVC on Resampled Dataset with PCA:',findHeidkeScore(confMatSVCResamplePCA),'TSS - SVC on Resampled Dataset with PCA:',findThreatScore(confMatSVCResamplePCA))"
   ]
  },
  {
   "cell_type": "markdown",
   "metadata": {},
   "source": [
    "# Using RFC and Evaluating the Effect of Depth on the Classifier"
   ]
  },
  {
   "cell_type": "code",
   "execution_count": 22,
   "metadata": {},
   "outputs": [
    {
     "name": "stdout",
     "output_type": "stream",
     "text": [
      "TN  FP  FN  TP\n",
      "[[26. 19. 15. 56.]\n",
      " [30. 15. 18. 53.]\n",
      " [36.  9. 18. 53.]\n",
      " [38.  7. 18. 53.]\n",
      " [38.  7. 19. 52.]\n",
      " [40.  5. 18. 53.]\n",
      " [40.  5. 20. 51.]\n",
      " [39.  6. 19. 52.]\n",
      " [39.  6. 20. 51.]\n",
      " [40.  5. 21. 50.]\n",
      " [40.  5. 21. 50.]\n",
      " [39.  6. 21. 50.]\n",
      " [40.  5. 21. 50.]\n",
      " [40.  5. 21. 50.]\n",
      " [40.  5. 21. 50.]\n",
      " [40.  5. 21. 50.]\n",
      " [40.  5. 21. 50.]\n",
      " [40.  5. 21. 50.]\n",
      " [40.  5. 21. 50.]]\n",
      "[[0.37257397]\n",
      " [0.40816327]\n",
      " [0.52717391]\n",
      " [0.56560815]\n",
      " [0.54998508]\n",
      " [0.60344828]\n",
      " [0.57227139]\n",
      " [0.56896552]\n",
      " [0.55344981]\n",
      " [0.55686159]\n",
      " [0.55686159]\n",
      " [0.5380531 ]\n",
      " [0.55686159]\n",
      " [0.55686159]\n",
      " [0.55686159]\n",
      " [0.55686159]\n",
      " [0.55686159]\n",
      " [0.55686159]\n",
      " [0.55686159]]\n",
      "[[0.36651017]\n",
      " [0.41314554]\n",
      " [0.54647887]\n",
      " [0.59092332]\n",
      " [0.57683881]\n",
      " [0.63536776]\n",
      " [0.60719875]\n",
      " [0.59906103]\n",
      " [0.58497653]\n",
      " [0.59311424]\n",
      " [0.59311424]\n",
      " [0.57089202]\n",
      " [0.59311424]\n",
      " [0.59311424]\n",
      " [0.59311424]\n",
      " [0.59311424]\n",
      " [0.59311424]\n",
      " [0.59311424]\n",
      " [0.59311424]]\n"
     ]
    },
    {
     "data": {
      "image/png": "[encoded data removed]",
      "text/plain": [
       "<Figure size 432x288 with 1 Axes>"
      ]
     },
     "metadata": {
      "needs_background": "light"
     },
     "output_type": "display_data"
    },
    {
     "data": {
      "image/png": "[encoded data removed]",
      "text/plain": [
       "<Figure size 432x288 with 1 Axes>"
      ]
     },
     "metadata": {
      "needs_background": "light"
     },
     "output_type": "display_data"
    }
   ],
   "source": [
    "from sklearn.ensemble import RandomForestClassifier\n",
    "\n",
    "def evaluateRFC(depth):\n",
    "    modelRFC = RandomForestClassifier(max_depth=depth, random_state=0)\n",
    "    modelRFC.fit(input_train_res_PCA,output_train_res)\n",
    "    predictRFCResamplePCA = modelRFC.predict(input_test_PCA)\n",
    "    confMatRFCResamplePCA = confusion_matrix(output_test,predictRFCResamplePCA)\n",
    "    return confMatRFCResamplePCA\n",
    "\n",
    "confMatVariationRFC = np.zeros((19,4))\n",
    "HSSVariationRFC = np.zeros((19,1)) #Store the Heidke Score\n",
    "TSSVariationRFC = np.zeros((19,1)) #Store the Threat Score\n",
    "\n",
    "for depth in range(1, 20):\n",
    "    confMat = evaluateRFC(depth)\n",
    "    confMatVariationRFC[depth-1]=confMat.ravel()\n",
    "    HSSVariationRFC[depth-1] = findHeidkeScore(confMat)\n",
    "    TSSVariationRFC[depth-1] = findThreatScore(confMat)\n",
    "\n",
    "print('TN ','FP ','FN ','TP')\n",
    "print(confMatVariationRFC)\n",
    "print(HSSVariationRFC)\n",
    "print(TSSVariationRFC)                   \n",
    "    \n",
    "# Plot Heidke Score Variation with C\n",
    "plt.figure()\n",
    "plt.plot(HSSVariationRFC)\n",
    "plt.xlabel('Depth')\n",
    "plt.ylabel('HEIDKE SCORE')\n",
    "plt.title('VARIATION OF HEIDKE SCORE WITH DEPTH of RFC')\n",
    "plt.xticks(np.arange(1, 20, 1.0))\n",
    "plt.show()\n",
    "\n",
    "# Plot Threat Score Variation with C\n",
    "plt.figure()\n",
    "plt.plot(TSSVariationRFC)\n",
    "plt.xlabel('Depth')\n",
    "plt.ylabel('TRUE SKILL SCORE')\n",
    "plt.title('VARIATION OF TRUE SKILL SCORE WITH DEPTH OF RFC')\n",
    "plt.xticks(np.arange(1, 20, 1.0))\n",
    "plt.show()\n",
    "\n",
    "#print (\"\\naccuracy_score :\",accuracy_score(output_test,predictRFCResamplePCA))\n",
    "#print('HSS - RFC on Resampled Dataset with PCA:',findHeidkeScore(confMatRFCResamplePCA),\n",
    "#      'TSS - RFC on Resampled Dataset with PCA:',findThreatScore(confMatRFCResamplePCA))\n",
    "\n"
   ]
  },
  {
   "cell_type": "code",
   "execution_count": 23,
   "metadata": {},
   "outputs": [
    {
     "name": "stdout",
     "output_type": "stream",
     "text": [
      "RFC Results                    HSS             TSS       \n",
      "Resampled Dataset with PCA     0.603           0.635     \n",
      "Perfect Score                  1.0             1.0       \n"
     ]
    }
   ],
   "source": [
    "confMatRFC = evaluateRFC(6)\n",
    "dfResultRFC = {1: [\"RFC Results\",\"HSS\",\"TSS\"],\n",
    "               2: [\"Resampled Dataset with PCA\",round(findHeidkeScore(confMatRFC),3),round(findThreatScore(confMatRFC),3)],\n",
    "               3: [\"Perfect Score\",1.000,1.000]\n",
    "              }\n",
    "\n",
    "#print(dfResultSVC.items())\n",
    "for k, v in dfResultRFC.items():\n",
    "    c1,c2,c3 = v\n",
    "    print (\"{:<30} {:<15} {:<10}\".format(c1, c2, c3))"
   ]
  },
  {
   "cell_type": "markdown",
   "metadata": {},
   "source": [
    "# Using NN"
   ]
  },
  {
   "cell_type": "code",
   "execution_count": 24,
   "metadata": {},
   "outputs": [
    {
     "name": "stdout",
     "output_type": "stream",
     "text": [
      "Input Data Shape: (351, 34)\n",
      "Input Data Shape after PCA: (351, 18)\n",
      "Model: \"sequential\"\n",
      "_________________________________________________________________\n",
      "Layer (type)                 Output Shape              Param #   \n",
      "=================================================================\n",
      "dense (Dense)                (None, 18)                342       \n",
      "_________________________________________________________________\n",
      "dense_1 (Dense)              (None, 9)                 171       \n",
      "_________________________________________________________________\n",
      "dense_2 (Dense)              (None, 1)                 10        \n",
      "=================================================================\n",
      "Total params: 523\n",
      "Trainable params: 523\n",
      "Non-trainable params: 0\n",
      "_________________________________________________________________\n",
      "None\n",
      "Train on 243 samples, validate on 121 samples\n",
      "Epoch 1/40\n",
      "243/243 - 2s - loss: 0.6726 - accuracy: 0.6543 - val_loss: 0.6331 - val_accuracy: 0.7107\n",
      "Epoch 2/40\n",
      "243/243 - 1s - loss: 0.5839 - accuracy: 0.7613 - val_loss: 0.5139 - val_accuracy: 0.7355\n",
      "Epoch 3/40\n",
      "243/243 - 1s - loss: 0.4778 - accuracy: 0.8189 - val_loss: 0.3971 - val_accuracy: 0.8182\n",
      "Epoch 4/40\n",
      "243/243 - 1s - loss: 0.3864 - accuracy: 0.8560 - val_loss: 0.3275 - val_accuracy: 0.8760\n",
      "Epoch 5/40\n",
      "243/243 - 1s - loss: 0.3340 - accuracy: 0.8601 - val_loss: 0.2711 - val_accuracy: 0.9256\n",
      "Epoch 6/40\n",
      "243/243 - 1s - loss: 0.2943 - accuracy: 0.8807 - val_loss: 0.2421 - val_accuracy: 0.9339\n",
      "Epoch 7/40\n",
      "243/243 - 1s - loss: 0.2691 - accuracy: 0.9053 - val_loss: 0.2181 - val_accuracy: 0.9256\n",
      "Epoch 8/40\n",
      "243/243 - 1s - loss: 0.2499 - accuracy: 0.9012 - val_loss: 0.2067 - val_accuracy: 0.9256\n",
      "Epoch 9/40\n",
      "243/243 - 1s - loss: 0.2306 - accuracy: 0.8971 - val_loss: 0.1984 - val_accuracy: 0.9421\n",
      "Epoch 10/40\n",
      "243/243 - 1s - loss: 0.2035 - accuracy: 0.9177 - val_loss: 0.2038 - val_accuracy: 0.9091\n",
      "Epoch 11/40\n",
      "243/243 - 1s - loss: 0.1933 - accuracy: 0.9095 - val_loss: 0.1885 - val_accuracy: 0.9339\n",
      "Epoch 12/40\n",
      "243/243 - 1s - loss: 0.1753 - accuracy: 0.9259 - val_loss: 0.1815 - val_accuracy: 0.9339\n",
      "Epoch 13/40\n",
      "243/243 - 1s - loss: 0.1625 - accuracy: 0.9465 - val_loss: 0.1824 - val_accuracy: 0.9256\n",
      "Epoch 14/40\n",
      "243/243 - 1s - loss: 0.1525 - accuracy: 0.9424 - val_loss: 0.1788 - val_accuracy: 0.9256\n",
      "Epoch 15/40\n",
      "243/243 - 1s - loss: 0.1443 - accuracy: 0.9547 - val_loss: 0.1829 - val_accuracy: 0.9256\n",
      "Epoch 16/40\n",
      "243/243 - 1s - loss: 0.1351 - accuracy: 0.9630 - val_loss: 0.1744 - val_accuracy: 0.9256\n",
      "Epoch 17/40\n",
      "243/243 - 1s - loss: 0.1299 - accuracy: 0.9630 - val_loss: 0.1699 - val_accuracy: 0.9421\n",
      "Epoch 18/40\n",
      "243/243 - 1s - loss: 0.1234 - accuracy: 0.9588 - val_loss: 0.1754 - val_accuracy: 0.9256\n",
      "Epoch 19/40\n",
      "243/243 - 1s - loss: 0.1177 - accuracy: 0.9506 - val_loss: 0.1722 - val_accuracy: 0.9339\n",
      "Epoch 20/40\n",
      "243/243 - 1s - loss: 0.1162 - accuracy: 0.9671 - val_loss: 0.1689 - val_accuracy: 0.9339\n",
      "Epoch 21/40\n",
      "243/243 - 1s - loss: 0.1098 - accuracy: 0.9547 - val_loss: 0.1787 - val_accuracy: 0.9339\n",
      "Epoch 22/40\n",
      "243/243 - 1s - loss: 0.1049 - accuracy: 0.9671 - val_loss: 0.1770 - val_accuracy: 0.9339\n",
      "Epoch 23/40\n",
      "243/243 - 1s - loss: 0.1056 - accuracy: 0.9588 - val_loss: 0.1779 - val_accuracy: 0.9339\n",
      "Epoch 24/40\n",
      "243/243 - 1s - loss: 0.1009 - accuracy: 0.9671 - val_loss: 0.1792 - val_accuracy: 0.9339\n",
      "Epoch 25/40\n",
      "243/243 - 1s - loss: 0.0970 - accuracy: 0.9753 - val_loss: 0.1770 - val_accuracy: 0.9339\n",
      "Epoch 26/40\n",
      "243/243 - 1s - loss: 0.0960 - accuracy: 0.9794 - val_loss: 0.1788 - val_accuracy: 0.9256\n",
      "Epoch 27/40\n",
      "243/243 - 1s - loss: 0.0914 - accuracy: 0.9712 - val_loss: 0.1969 - val_accuracy: 0.9421\n",
      "Epoch 28/40\n",
      "243/243 - 1s - loss: 0.0894 - accuracy: 0.9712 - val_loss: 0.1862 - val_accuracy: 0.9339\n",
      "Epoch 29/40\n",
      "243/243 - 1s - loss: 0.0876 - accuracy: 0.9753 - val_loss: 0.1872 - val_accuracy: 0.9339\n",
      "Epoch 30/40\n",
      "243/243 - 1s - loss: 0.0837 - accuracy: 0.9794 - val_loss: 0.1926 - val_accuracy: 0.9339\n",
      "Epoch 31/40\n",
      "243/243 - 1s - loss: 0.0788 - accuracy: 0.9835 - val_loss: 0.1987 - val_accuracy: 0.9339\n",
      "Epoch 32/40\n",
      "243/243 - 1s - loss: 0.0843 - accuracy: 0.9753 - val_loss: 0.1937 - val_accuracy: 0.9256\n",
      "Epoch 33/40\n",
      "243/243 - 1s - loss: 0.0810 - accuracy: 0.9794 - val_loss: 0.2015 - val_accuracy: 0.9174\n",
      "Epoch 34/40\n",
      "243/243 - 1s - loss: 0.0769 - accuracy: 0.9794 - val_loss: 0.2096 - val_accuracy: 0.9339\n",
      "Epoch 35/40\n",
      "243/243 - 1s - loss: 0.0771 - accuracy: 0.9835 - val_loss: 0.2005 - val_accuracy: 0.9256\n",
      "Epoch 36/40\n",
      "243/243 - 1s - loss: 0.0764 - accuracy: 0.9794 - val_loss: 0.2032 - val_accuracy: 0.9256\n",
      "Epoch 37/40\n",
      "243/243 - 1s - loss: 0.0753 - accuracy: 0.9835 - val_loss: 0.2119 - val_accuracy: 0.9339\n",
      "Epoch 38/40\n",
      "243/243 - 1s - loss: 0.0715 - accuracy: 0.9794 - val_loss: 0.2073 - val_accuracy: 0.9339\n",
      "Epoch 39/40\n",
      "243/243 - 1s - loss: 0.0722 - accuracy: 0.9835 - val_loss: 0.2166 - val_accuracy: 0.9339\n",
      "Epoch 40/40\n",
      "243/243 - 1s - loss: 0.0698 - accuracy: 0.9835 - val_loss: 0.2029 - val_accuracy: 0.9339\n"
     ]
    }
   ],
   "source": [
    "from tensorflow import keras\n",
    "from tensorflow.keras.callbacks import TensorBoard\n",
    "#import tensorboard\n",
    "#from tensorboard.callbacks import TensorBoard\n",
    "import time\n",
    "NAME = \"ionoSphere_data-{}\".format(int(time.time()))\n",
    "\n",
    "tensorboard = TensorBoard(log_dir='logs/{}'.format(NAME))\n",
    "\n",
    "\n",
    "\n",
    "labels = df[34]\n",
    "inputs = df.drop([34],axis=1)\n",
    "print('Input Data Shape:',inputs.shape)\n",
    "\n",
    "pca = PCA() \n",
    "inputs = pca.fit_transform(inputs)\n",
    "total=sum(pca.explained_variance_)\n",
    "\n",
    "k=0\n",
    "current_variance=0\n",
    "while current_variance/total < 0.90:\n",
    "    current_variance += pca.explained_variance_[k]\n",
    "    k=k+1\n",
    "\n",
    "\n",
    "pca = PCA(n_components=k) #Performing PCA\n",
    "inputs = pca.fit_transform(inputs)\n",
    "print('Input Data Shape after PCA:',inputs.shape)\n",
    "\n",
    "inputTrainTest, inputVal, outputTrainTest, outputVal = train_test_split(inputs, \n",
    "                                                                      labels, test_size=0.2, \n",
    "                                                                      random_state=42) #Val to be used for cross validation\n",
    "\n",
    "sm = SMOTE(random_state = 42, sampling_strategy = 1.0) #Performing Resampling of Train-Test DataSet\n",
    "inputTrainTestRes, outputTrainTestRes = sm.fit_sample(inputTrainTest, outputTrainTest.ravel())\n",
    "\n",
    "\n",
    "inputTrainRes, inputTestRes, outputTrainRes, outputTestRes = train_test_split(inputTrainTestRes,outputTrainTestRes, test_size=0.33, random_state=42)\n",
    "\n",
    "\n",
    "modelNN = keras.Sequential()\n",
    "modelNN.add(keras.layers.Dense(18,input_dim=18,activation='relu'))\n",
    "modelNN.add(keras.layers.Dense(9,activation='relu'))\n",
    "modelNN.add(keras.layers.Dense(1,activation='sigmoid'))\n",
    "print(modelNN.summary())\n",
    "modelNN.compile(loss='binary_crossentropy',\n",
    "              optimizer='SGD',\n",
    "              metrics=['accuracy'])\n",
    "\n",
    "histNN = modelNN.fit(inputTrainRes, outputTrainRes,\n",
    "                     epochs=40,batch_size=1,\n",
    "                     validation_data=(inputTestRes,outputTestRes),\n",
    "                     verbose=2\n",
    "                     #callbacks = [tensorboard]\n",
    "                    )\n"
   ]
  },
  {
   "cell_type": "code",
   "execution_count": 25,
   "metadata": {},
   "outputs": [
    {
     "data": {
      "image/png": "[encoded data removed]",
      "text/plain": [
       "<Figure size 432x288 with 1 Axes>"
      ]
     },
     "metadata": {
      "needs_background": "light"
     },
     "output_type": "display_data"
    },
    {
     "data": {
      "image/png": "[encoded data removed]",
      "text/plain": [
       "<Figure size 432x288 with 1 Axes>"
      ]
     },
     "metadata": {
      "needs_background": "light"
     },
     "output_type": "display_data"
    }
   ],
   "source": [
    "# Summarize history for accuracy\n",
    "plt.figure()\n",
    "plt.plot(histNN.history['accuracy'])\n",
    "plt.plot(histNN.history['val_accuracy'])\n",
    "plt.title('model accuracy')\n",
    "plt.ylabel('Accuracy')\n",
    "plt.xlabel('Epoch')\n",
    "plt.legend(['Train', 'Test'], loc='upper left')\n",
    "plt.show()\n",
    "\n",
    "# summarize history for loss\n",
    "plt.figure()\n",
    "plt.plot(histNN.history['loss'])\n",
    "plt.plot(histNN.history['val_loss'])\n",
    "plt.title('model loss')\n",
    "plt.ylabel('Loss')\n",
    "plt.xlabel('Epoch')\n",
    "plt.legend(['train', 'test'], loc='upper left')\n",
    "plt.show()"
   ]
  },
  {
   "cell_type": "code",
   "execution_count": 26,
   "metadata": {},
   "outputs": [
    {
     "name": "stdout",
     "output_type": "stream",
     "text": [
      "71/1 - 0s\n",
      "NN Results                     HSS             TSS       \n",
      "Resampled Dataset with PCA     0.848           0.821     \n",
      "Perfect Score                  1.0             1.0       \n"
     ]
    }
   ],
   "source": [
    "predictions = modelNN.predict_classes(inputVal, verbose = 2)\n",
    "confMatNNResamplePCA = confusion_matrix(outputVal,predictions)\n",
    "\n",
    "dfResultNN = {1: [\"NN Results\",\"HSS\",\"TSS\"],\n",
    "              2: [\"Resampled Dataset with PCA\",round(findHeidkeScore(confMatNNResamplePCA),3),round(findThreatScore(confMatNNResamplePCA),3)],\n",
    "              3: [\"Perfect Score\",1.000,1.000]\n",
    "              }\n",
    "\n",
    "for k, v in dfResultNN.items():\n",
    "    c1,c2,c3 = v\n",
    "    print (\"{:<30} {:<15} {:<10}\".format(c1, c2, c3))\n",
    "#print(confMatNNResamplePCA)\n",
    "#print (\"\\naccuracy_score :\",accuracy_score(output_test,predictRFCResamplePCA))\n",
    "#print('HSS - NN on Resampled Dataset with PCA:',findHeidkeScore(confMatNNResamplePCA),\n",
    "#      'TSS - NN on Resampled Dataset with PCA:',findThreatScore(confMatNNResamplePCA))"
   ]
  },
  {
   "cell_type": "markdown",
   "metadata": {},
   "source": [
    "# Tally of All Results - FINAL RESULTS"
   ]
  },
  {
   "cell_type": "code",
   "execution_count": 27,
   "metadata": {},
   "outputs": [
    {
     "name": "stdout",
     "output_type": "stream",
     "text": [
      "Comparison of Results          HSS             TSS       \n",
      "SVC                            0.803           0.813     \n",
      "RFC                            0.603           0.635     \n",
      "NN                             0.848           0.821     \n",
      "Perfect Score                  1.0             1.0       \n"
     ]
    }
   ],
   "source": [
    "dfResultsAll = {1: [\"Comparison of Results\",\"HSS\",\"TSS\"],\n",
    "                2: [\"SVC \",round(findHeidkeScore(confMatSVCResamplePCA),3),round(findThreatScore(confMatSVCResamplePCA),3)],\n",
    "                3: [\"RFC \",round(findHeidkeScore(confMatRFC),3),round(findThreatScore(confMatRFC),3)],\n",
    "                4: [\"NN \",round(findHeidkeScore(confMatNNResamplePCA),3),round(findThreatScore(confMatNNResamplePCA),3)],\n",
    "                5: [\"Perfect Score\",1.000,1.000]\n",
    "              }\n",
    "\n",
    "for k, v in dfResultsAll.items():\n",
    "    c1,c2,c3 = v\n",
    "    print (\"{:<30} {:<15} {:<10}\".format(c1, c2, c3))"
   ]
  },
  {
   "cell_type": "markdown",
   "metadata": {},
   "source": [
    "# Pl. Ignore below mentioned codes"
   ]
  },
  {
   "cell_type": "markdown",
   "metadata": {},
   "source": [
    "\n",
    "## Trying with Linear Model: SGD Classifier"
   ]
  },
  {
   "cell_type": "code",
   "execution_count": 28,
   "metadata": {},
   "outputs": [
    {
     "name": "stderr",
     "output_type": "stream",
     "text": [
      "/Users/Pramit/opt/miniconda3/envs/tensorflow/lib/python3.7/site-packages/sklearn/linear_model/_stochastic_gradient.py:573: ConvergenceWarning: Maximum number of iteration reached before convergence. Consider increasing max_iter to improve the fit.\n",
      "  ConvergenceWarning)\n",
      "/Users/Pramit/opt/miniconda3/envs/tensorflow/lib/python3.7/site-packages/sklearn/linear_model/_stochastic_gradient.py:573: ConvergenceWarning: Maximum number of iteration reached before convergence. Consider increasing max_iter to improve the fit.\n",
      "  ConvergenceWarning)\n",
      "/Users/Pramit/opt/miniconda3/envs/tensorflow/lib/python3.7/site-packages/sklearn/linear_model/_stochastic_gradient.py:573: ConvergenceWarning: Maximum number of iteration reached before convergence. Consider increasing max_iter to improve the fit.\n",
      "  ConvergenceWarning)\n",
      "/Users/Pramit/opt/miniconda3/envs/tensorflow/lib/python3.7/site-packages/sklearn/linear_model/_stochastic_gradient.py:573: ConvergenceWarning: Maximum number of iteration reached before convergence. Consider increasing max_iter to improve the fit.\n",
      "  ConvergenceWarning)\n",
      "/Users/Pramit/opt/miniconda3/envs/tensorflow/lib/python3.7/site-packages/sklearn/linear_model/_stochastic_gradient.py:573: ConvergenceWarning: Maximum number of iteration reached before convergence. Consider increasing max_iter to improve the fit.\n",
      "  ConvergenceWarning)\n",
      "/Users/Pramit/opt/miniconda3/envs/tensorflow/lib/python3.7/site-packages/sklearn/linear_model/_stochastic_gradient.py:573: ConvergenceWarning: Maximum number of iteration reached before convergence. Consider increasing max_iter to improve the fit.\n",
      "  ConvergenceWarning)\n",
      "/Users/Pramit/opt/miniconda3/envs/tensorflow/lib/python3.7/site-packages/sklearn/linear_model/_stochastic_gradient.py:573: ConvergenceWarning: Maximum number of iteration reached before convergence. Consider increasing max_iter to improve the fit.\n",
      "  ConvergenceWarning)\n",
      "/Users/Pramit/opt/miniconda3/envs/tensorflow/lib/python3.7/site-packages/sklearn/linear_model/_stochastic_gradient.py:573: ConvergenceWarning: Maximum number of iteration reached before convergence. Consider increasing max_iter to improve the fit.\n",
      "  ConvergenceWarning)\n",
      "/Users/Pramit/opt/miniconda3/envs/tensorflow/lib/python3.7/site-packages/sklearn/linear_model/_stochastic_gradient.py:573: ConvergenceWarning: Maximum number of iteration reached before convergence. Consider increasing max_iter to improve the fit.\n",
      "  ConvergenceWarning)\n",
      "/Users/Pramit/opt/miniconda3/envs/tensorflow/lib/python3.7/site-packages/sklearn/linear_model/_stochastic_gradient.py:573: ConvergenceWarning: Maximum number of iteration reached before convergence. Consider increasing max_iter to improve the fit.\n",
      "  ConvergenceWarning)\n",
      "/Users/Pramit/opt/miniconda3/envs/tensorflow/lib/python3.7/site-packages/sklearn/linear_model/_stochastic_gradient.py:573: ConvergenceWarning: Maximum number of iteration reached before convergence. Consider increasing max_iter to improve the fit.\n",
      "  ConvergenceWarning)\n",
      "/Users/Pramit/opt/miniconda3/envs/tensorflow/lib/python3.7/site-packages/sklearn/linear_model/_stochastic_gradient.py:573: ConvergenceWarning: Maximum number of iteration reached before convergence. Consider increasing max_iter to improve the fit.\n",
      "  ConvergenceWarning)\n",
      "/Users/Pramit/opt/miniconda3/envs/tensorflow/lib/python3.7/site-packages/sklearn/linear_model/_stochastic_gradient.py:573: ConvergenceWarning: Maximum number of iteration reached before convergence. Consider increasing max_iter to improve the fit.\n",
      "  ConvergenceWarning)\n",
      "/Users/Pramit/opt/miniconda3/envs/tensorflow/lib/python3.7/site-packages/sklearn/linear_model/_stochastic_gradient.py:573: ConvergenceWarning: Maximum number of iteration reached before convergence. Consider increasing max_iter to improve the fit.\n",
      "  ConvergenceWarning)\n",
      "/Users/Pramit/opt/miniconda3/envs/tensorflow/lib/python3.7/site-packages/sklearn/linear_model/_stochastic_gradient.py:573: ConvergenceWarning: Maximum number of iteration reached before convergence. Consider increasing max_iter to improve the fit.\n",
      "  ConvergenceWarning)\n",
      "/Users/Pramit/opt/miniconda3/envs/tensorflow/lib/python3.7/site-packages/sklearn/linear_model/_stochastic_gradient.py:573: ConvergenceWarning: Maximum number of iteration reached before convergence. Consider increasing max_iter to improve the fit.\n",
      "  ConvergenceWarning)\n",
      "/Users/Pramit/opt/miniconda3/envs/tensorflow/lib/python3.7/site-packages/sklearn/linear_model/_stochastic_gradient.py:573: ConvergenceWarning: Maximum number of iteration reached before convergence. Consider increasing max_iter to improve the fit.\n",
      "  ConvergenceWarning)\n",
      "/Users/Pramit/opt/miniconda3/envs/tensorflow/lib/python3.7/site-packages/sklearn/linear_model/_stochastic_gradient.py:573: ConvergenceWarning: Maximum number of iteration reached before convergence. Consider increasing max_iter to improve the fit.\n",
      "  ConvergenceWarning)\n",
      "/Users/Pramit/opt/miniconda3/envs/tensorflow/lib/python3.7/site-packages/sklearn/linear_model/_stochastic_gradient.py:573: ConvergenceWarning: Maximum number of iteration reached before convergence. Consider increasing max_iter to improve the fit.\n",
      "  ConvergenceWarning)\n",
      "/Users/Pramit/opt/miniconda3/envs/tensorflow/lib/python3.7/site-packages/sklearn/linear_model/_stochastic_gradient.py:573: ConvergenceWarning: Maximum number of iteration reached before convergence. Consider increasing max_iter to improve the fit.\n",
      "  ConvergenceWarning)\n",
      "/Users/Pramit/opt/miniconda3/envs/tensorflow/lib/python3.7/site-packages/sklearn/linear_model/_stochastic_gradient.py:573: ConvergenceWarning: Maximum number of iteration reached before convergence. Consider increasing max_iter to improve the fit.\n",
      "  ConvergenceWarning)\n",
      "/Users/Pramit/opt/miniconda3/envs/tensorflow/lib/python3.7/site-packages/sklearn/linear_model/_stochastic_gradient.py:573: ConvergenceWarning: Maximum number of iteration reached before convergence. Consider increasing max_iter to improve the fit.\n",
      "  ConvergenceWarning)\n",
      "/Users/Pramit/opt/miniconda3/envs/tensorflow/lib/python3.7/site-packages/sklearn/linear_model/_stochastic_gradient.py:573: ConvergenceWarning: Maximum number of iteration reached before convergence. Consider increasing max_iter to improve the fit.\n",
      "  ConvergenceWarning)\n",
      "/Users/Pramit/opt/miniconda3/envs/tensorflow/lib/python3.7/site-packages/sklearn/linear_model/_stochastic_gradient.py:573: ConvergenceWarning: Maximum number of iteration reached before convergence. Consider increasing max_iter to improve the fit.\n",
      "  ConvergenceWarning)\n"
     ]
    },
    {
     "name": "stdout",
     "output_type": "stream",
     "text": [
      "TN  FP  FN  TP\n",
      "[[18. 27. 41. 30.]\n",
      " [30. 15. 31. 40.]\n",
      " [29. 16. 41. 30.]\n",
      " [33. 12. 35. 36.]\n",
      " [27. 18. 37. 34.]\n",
      " [21. 24. 41. 30.]\n",
      " [24. 21. 38. 33.]\n",
      " [29. 16. 32. 39.]\n",
      " [32. 13. 26. 45.]\n",
      " [21. 24. 45. 26.]\n",
      " [25. 20. 26. 45.]\n",
      " [34. 11. 54. 17.]\n",
      " [27. 18. 35. 36.]\n",
      " [20. 25. 30. 41.]\n",
      " [30. 15. 43. 28.]\n",
      " [32. 13. 32. 39.]\n",
      " [32. 13. 30. 41.]\n",
      " [26. 19. 28. 43.]\n",
      " [29. 16. 26. 45.]\n",
      " [27. 18. 24. 47.]\n",
      " [25. 20. 47. 24.]\n",
      " [26. 19. 31. 40.]\n",
      " [21. 24. 34. 37.]\n",
      " [33. 12. 30. 41.]\n",
      " [21. 24. 32. 39.]]\n",
      "[[-0.1679005 ]\n",
      " [ 0.21598589]\n",
      " [ 0.06079545]\n",
      " [ 0.21980538]\n",
      " [ 0.07321325]\n",
      " [-0.10362998]\n",
      " [-0.00175644]\n",
      " [ 0.18189833]\n",
      " [ 0.32758621]\n",
      " [-0.15397924]\n",
      " [ 0.18484571]\n",
      " [-0.00426212]\n",
      " [ 0.1001171 ]\n",
      " [ 0.02147239]\n",
      " [ 0.05479067]\n",
      " [ 0.24171993]\n",
      " [ 0.26990632]\n",
      " [ 0.17693237]\n",
      " [ 0.26736842]\n",
      " [ 0.25572869]\n",
      " [-0.09588268]\n",
      " [ 0.13458669]\n",
      " [-0.01172932]\n",
      " [ 0.2895888 ]\n",
      " [ 0.01545923]]\n",
      "[[-0.17746479]\n",
      " [ 0.23004695]\n",
      " [ 0.06697966]\n",
      " [ 0.24037559]\n",
      " [ 0.07887324]\n",
      " [-0.11079812]\n",
      " [-0.00187793]\n",
      " [ 0.19374022]\n",
      " [ 0.34491393]\n",
      " [-0.16713615]\n",
      " [ 0.18935837]\n",
      " [-0.00500782]\n",
      " [ 0.10704225]\n",
      " [ 0.02190923]\n",
      " [ 0.06103286]\n",
      " [ 0.26040689]\n",
      " [ 0.2885759 ]\n",
      " [ 0.18341158]\n",
      " [ 0.27824726]\n",
      " [ 0.26197183]\n",
      " [-0.10641628]\n",
      " [ 0.14115806]\n",
      " [-0.01220657]\n",
      " [ 0.31079812]\n",
      " [ 0.01596244]]\n"
     ]
    },
    {
     "data": {
      "image/png": "[encoded data removed]",
      "text/plain": [
       "<Figure size 432x288 with 1 Axes>"
      ]
     },
     "metadata": {
      "needs_background": "light"
     },
     "output_type": "display_data"
    },
    {
     "data": {
      "image/png": "[encoded data removed]",
      "text/plain": [
       "<Figure size 432x288 with 1 Axes>"
      ]
     },
     "metadata": {
      "needs_background": "light"
     },
     "output_type": "display_data"
    }
   ],
   "source": [
    "from sklearn.linear_model import SGDClassifier\n",
    "\n",
    "def evaluateSGDC(maxIter):\n",
    "    modelSGDC = SGDClassifier(loss=\"hinge\", penalty=\"l2\", max_iter=maxIter)\n",
    "    modelSGDC.fit(input_train_res_PCA,output_train_res)\n",
    "    predictSGDCResamplePCA = modelSGDC.predict(input_test_PCA)\n",
    "    confMatSGDCResamplePCA = confusion_matrix(output_test,predictSGDCResamplePCA)\n",
    "    return confMatSGDCResamplePCA\n",
    "\n",
    "confMatVariationSGDC = np.zeros((25,4))\n",
    "HSSVariationSGDC = np.zeros((25,1)) #Store the Heidke Score\n",
    "TSSVariationSGDC = np.zeros((25,1)) #Store the Threat Score\n",
    "\n",
    "for maxIter in range(5, 30):\n",
    "    confMat = evaluateSGDC(maxIter)\n",
    "    confMatVariationSGDC[maxIter-5]=confMat.ravel()\n",
    "    HSSVariationSGDC[maxIter-5] = findHeidkeScore(confMat)\n",
    "    TSSVariationSGDC[maxIter-5] = findThreatScore(confMat)\n",
    "\n",
    "print('TN ','FP ','FN ','TP')\n",
    "print(confMatVariationSGDC)\n",
    "print(HSSVariationSGDC)\n",
    "print(TSSVariationSGDC)                   \n",
    "    \n",
    "# Plot Heidke Score Variation with C\n",
    "plt.figure()\n",
    "plt.plot(HSSVariationSGDC)\n",
    "plt.xlabel('Max Iterations')\n",
    "plt.ylabel('HEIDKE SCORE')\n",
    "plt.title('VARIATION OF HEIDKE SCORE WITH Max. Iteration of SGDC')\n",
    "plt.xticks(np.arange(1, 20, 1.0))\n",
    "plt.show()\n",
    "\n",
    "# Plot Threat Score Variation with C\n",
    "plt.figure()\n",
    "plt.plot(TSSVariationRFC)\n",
    "plt.xlabel('Max Iterations')\n",
    "plt.ylabel('TRUE SKILL SCORE')\n",
    "plt.title('VARIATION OF TRUE SKILL SCORE WITH Max. Iteration of SGDC')\n",
    "plt.xticks(np.arange(1, 20, 1.0))\n",
    "plt.show()"
   ]
  },
  {
   "cell_type": "code",
   "execution_count": null,
   "metadata": {},
   "outputs": [],
   "source": [
    "SVC_HSS = 2.*((TP*TN) - (FN*FP))/((TP + FN)*(FN + TN) + (TP + FP)*(FP + TN)) # Heidke Skill Score\n",
    "TSS = (TP/(TP + FN)) - (FP/(FP + TN)) # True Skill Score\n",
    "BIAS = (TP + FP)/(TP + FN) # Bias of Detection\n",
    "POD = TP/(TP + FN) # Probability of Detection\n",
    "POFD = FP/(TN + FP) # Probablity of False Detection\n",
    "FAR = FP/(TP + FP) # False Alarm Ratio\n",
    "TS = TP/(TP + FN + FP) # Threat Score\n",
    "OR = (TP*TN)/(FN*FP) # Odds Ratio"
   ]
  },
  {
   "cell_type": "code",
   "execution_count": null,
   "metadata": {},
   "outputs": [],
   "source": [
    "accuracies = cross_val_score(estimator = model, X = input_train, y = output_train, cv = 5, n_jobs = -1)\n",
    "mean = accuracies.mean()\n",
    "variance = accuracies.std()\n",
    "print(\"Accuracy mean: \"+ str(mean))\n",
    "print(\"Accuracy variance: \"+ str(variance))\n",
    "\n",
    "# Accuracy\n",
    "print (\"\\naccuracy_score :\",accuracy_score(output_test, predictions))"
   ]
  },
  {
   "cell_type": "code",
   "execution_count": null,
   "metadata": {},
   "outputs": [],
   "source": [
    "svc_conf = confusion_matrix(output_test,predictions)"
   ]
  },
  {
   "cell_type": "code",
   "execution_count": null,
   "metadata": {},
   "outputs": [],
   "source": [
    "print(svc_conf)"
   ]
  },
  {
   "cell_type": "code",
   "execution_count": null,
   "metadata": {},
   "outputs": [],
   "source": []
  }
 ],
 "metadata": {
  "kernelspec": {
   "display_name": "Python 3.7 (tensorflow)",
   "language": "python",
   "name": "tensorflow"
  },
  "language_info": {
   "codemirror_mode": {
    "name": "ipython",
    "version": 3
   },
   "file_extension": ".py",
   "mimetype": "text/x-python",
   "name": "python",
   "nbconvert_exporter": "python",
   "pygments_lexer": "ipython3",
   "version": "3.7.6"
  }
 },
 "nbformat": 4,
 "nbformat_minor": 4
}
