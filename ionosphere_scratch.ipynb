{
 "cells": [
  {
   "cell_type": "code",
   "execution_count": 1,
   "metadata": {},
   "outputs": [],
   "source": [
    "import os\n",
    "import numpy as np\n",
    "import pandas as pd\n",
    "import matplotlib.pyplot as plt\n",
    "from sklearn.model_selection import train_test_split\n",
    "from sklearn.model_selection import cross_val_score\n",
    "from sklearn.metrics import confusion_matrix, accuracy_score, classification_report\n",
    "from imblearn.over_sampling import SMOTE\n",
    "from sklearn.preprocessing import normalize"
   ]
  },
  {
   "cell_type": "code",
   "execution_count": 2,
   "metadata": {},
   "outputs": [],
   "source": [
    "#=====Data Reading=====#\n",
    "# Identify the directory path of this python program\n",
    "#dir_path = os.path.dirname(os.path.realpath(__file__))\n",
    "\n",
    "# Read in a csv to pandas dataframe\n",
    "df = pd.read_csv('ionosphere.data', header = None)"
   ]
  },
  {
   "cell_type": "code",
   "execution_count": 23,
   "metadata": {},
   "outputs": [
    {
     "name": "stdout",
     "output_type": "stream",
     "text": [
      "     0   1        2        3        4        5        6        7        8   \\\n",
      "0     1   0  0.99539 -0.05889  0.85243  0.02306  0.83398 -0.37708  1.00000   \n",
      "1     1   0  1.00000 -0.18829  0.93035 -0.36156 -0.10868 -0.93597  1.00000   \n",
      "2     1   0  1.00000 -0.03365  1.00000  0.00485  1.00000 -0.12062  0.88965   \n",
      "3     1   0  1.00000 -0.45161  1.00000  1.00000  0.71216 -1.00000  0.00000   \n",
      "4     1   0  1.00000 -0.02401  0.94140  0.06531  0.92106 -0.23255  0.77152   \n",
      "..   ..  ..      ...      ...      ...      ...      ...      ...      ...   \n",
      "346   1   0  0.83508  0.08298  0.73739 -0.14706  0.84349 -0.05567  0.90441   \n",
      "347   1   0  0.95113  0.00419  0.95183 -0.02723  0.93438 -0.01920  0.94590   \n",
      "348   1   0  0.94701 -0.00034  0.93207 -0.03227  0.95177 -0.03431  0.95584   \n",
      "349   1   0  0.90608 -0.01657  0.98122 -0.01989  0.95691 -0.03646  0.85746   \n",
      "350   1   0  0.84710  0.13533  0.73638 -0.06151  0.87873  0.08260  0.88928   \n",
      "\n",
      "          9   ...       25       26       27       28       29       30  \\\n",
      "0    0.03760  ... -0.51171  0.41078 -0.46168  0.21266 -0.34090  0.42267   \n",
      "1   -0.04549  ... -0.26569 -0.20468 -0.18401 -0.19040 -0.11593 -0.16626   \n",
      "2    0.01198  ... -0.40220  0.58984 -0.22145  0.43100 -0.17365  0.60436   \n",
      "3    0.00000  ...  0.90695  0.51613  1.00000  1.00000 -0.20099  0.25682   \n",
      "4   -0.16399  ... -0.65158  0.13290 -0.53206  0.02431 -0.62197 -0.05707   \n",
      "..       ...  ...      ...      ...      ...      ...      ...      ...   \n",
      "346 -0.04622  ... -0.04202  0.83479  0.00123  1.00000  0.12815  0.86660   \n",
      "347  0.01606  ...  0.01361  0.93522  0.04925  0.93159  0.08168  0.94066   \n",
      "348  0.02446  ...  0.03193  0.92489  0.02542  0.92120  0.02242  0.92459   \n",
      "349  0.00110  ... -0.02099  0.89147 -0.07760  0.82983 -0.17238  0.96022   \n",
      "350 -0.09139  ... -0.15114  0.81147 -0.04822  0.78207 -0.00703  0.75747   \n",
      "\n",
      "          31       32       33  34  \n",
      "0   -0.54487  0.18641 -0.45300   1  \n",
      "1   -0.06288 -0.13738 -0.02447   0  \n",
      "2   -0.24180  0.56045 -0.38238   1  \n",
      "3    1.00000 -0.32382  1.00000   0  \n",
      "4   -0.59573 -0.04608 -0.65697   1  \n",
      "..       ...      ...      ...  ..  \n",
      "346 -0.10714  0.90546 -0.04307   1  \n",
      "347 -0.00035  0.91483  0.04712   1  \n",
      "348  0.00442  0.92697 -0.00577   1  \n",
      "349 -0.03757  0.87403 -0.16243   1  \n",
      "350 -0.06678  0.85764 -0.06151   1  \n",
      "\n",
      "[351 rows x 35 columns]\n"
     ]
    }
   ],
   "source": [
    "print(df)"
   ]
  },
  {
   "cell_type": "code",
   "execution_count": 3,
   "metadata": {},
   "outputs": [],
   "source": [
    "#=====Data Processing=====#\n",
    "# Recategorize the classification labels into a binary classifier\n",
    "categ = {\"g\" : 1, \"b\" : 0}\n",
    "df[34] = [categ[item] for item in df[34]]"
   ]
  },
  {
   "cell_type": "code",
   "execution_count": 4,
   "metadata": {},
   "outputs": [
    {
     "name": "stdout",
     "output_type": "stream",
     "text": [
      "   0   1        2        3        4        5        6        7        8   \\\n",
      "0   1   0  0.99539 -0.05889  0.85243  0.02306  0.83398 -0.37708  1.00000   \n",
      "1   1   0  1.00000 -0.18829  0.93035 -0.36156 -0.10868 -0.93597  1.00000   \n",
      "2   1   0  1.00000 -0.03365  1.00000  0.00485  1.00000 -0.12062  0.88965   \n",
      "\n",
      "        9   ...       25       26       27       28       29       30  \\\n",
      "0  0.03760  ... -0.51171  0.41078 -0.46168  0.21266 -0.34090  0.42267   \n",
      "1 -0.04549  ... -0.26569 -0.20468 -0.18401 -0.19040 -0.11593 -0.16626   \n",
      "2  0.01198  ... -0.40220  0.58984 -0.22145  0.43100 -0.17365  0.60436   \n",
      "\n",
      "        31       32       33  34  \n",
      "0 -0.54487  0.18641 -0.45300   1  \n",
      "1 -0.06288 -0.13738 -0.02447   0  \n",
      "2 -0.24180  0.56045 -0.38238   1  \n",
      "\n",
      "[3 rows x 35 columns]\n"
     ]
    }
   ],
   "source": [
    "print(df.head(3))"
   ]
  },
  {
   "cell_type": "code",
   "execution_count": 22,
   "metadata": {},
   "outputs": [
    {
     "name": "stdout",
     "output_type": "stream",
     "text": [
      "     0   1        2        3        4        5        6        7        8   \\\n",
      "0     1   0  0.99539 -0.05889  0.85243  0.02306  0.83398 -0.37708  1.00000   \n",
      "1     1   0  1.00000 -0.18829  0.93035 -0.36156 -0.10868 -0.93597  1.00000   \n",
      "2     1   0  1.00000 -0.03365  1.00000  0.00485  1.00000 -0.12062  0.88965   \n",
      "3     1   0  1.00000 -0.45161  1.00000  1.00000  0.71216 -1.00000  0.00000   \n",
      "4     1   0  1.00000 -0.02401  0.94140  0.06531  0.92106 -0.23255  0.77152   \n",
      "..   ..  ..      ...      ...      ...      ...      ...      ...      ...   \n",
      "346   1   0  0.83508  0.08298  0.73739 -0.14706  0.84349 -0.05567  0.90441   \n",
      "347   1   0  0.95113  0.00419  0.95183 -0.02723  0.93438 -0.01920  0.94590   \n",
      "348   1   0  0.94701 -0.00034  0.93207 -0.03227  0.95177 -0.03431  0.95584   \n",
      "349   1   0  0.90608 -0.01657  0.98122 -0.01989  0.95691 -0.03646  0.85746   \n",
      "350   1   0  0.84710  0.13533  0.73638 -0.06151  0.87873  0.08260  0.88928   \n",
      "\n",
      "          9   ...       24       25       26       27       28       29  \\\n",
      "0    0.03760  ...  0.56811 -0.51171  0.41078 -0.46168  0.21266 -0.34090   \n",
      "1   -0.04549  ... -0.20332 -0.26569 -0.20468 -0.18401 -0.19040 -0.11593   \n",
      "2    0.01198  ...  0.57528 -0.40220  0.58984 -0.22145  0.43100 -0.17365   \n",
      "3    0.00000  ...  1.00000  0.90695  0.51613  1.00000  1.00000 -0.20099   \n",
      "4   -0.16399  ...  0.03286 -0.65158  0.13290 -0.53206  0.02431 -0.62197   \n",
      "..       ...  ...      ...      ...      ...      ...      ...      ...   \n",
      "346 -0.04622  ...  0.95378 -0.04202  0.83479  0.00123  1.00000  0.12815   \n",
      "347  0.01606  ...  0.94520  0.01361  0.93522  0.04925  0.93159  0.08168   \n",
      "348  0.02446  ...  0.93988  0.03193  0.92489  0.02542  0.92120  0.02242   \n",
      "349  0.00110  ...  0.91050 -0.02099  0.89147 -0.07760  0.82983 -0.17238   \n",
      "350 -0.09139  ...  0.86467 -0.15114  0.81147 -0.04822  0.78207 -0.00703   \n",
      "\n",
      "          30       31       32       33  \n",
      "0    0.42267 -0.54487  0.18641 -0.45300  \n",
      "1   -0.16626 -0.06288 -0.13738 -0.02447  \n",
      "2    0.60436 -0.24180  0.56045 -0.38238  \n",
      "3    0.25682  1.00000 -0.32382  1.00000  \n",
      "4   -0.05707 -0.59573 -0.04608 -0.65697  \n",
      "..       ...      ...      ...      ...  \n",
      "346  0.86660 -0.10714  0.90546 -0.04307  \n",
      "347  0.94066 -0.00035  0.91483  0.04712  \n",
      "348  0.92459  0.00442  0.92697 -0.00577  \n",
      "349  0.96022 -0.03757  0.87403 -0.16243  \n",
      "350  0.75747 -0.06678  0.85764 -0.06151  \n",
      "\n",
      "[351 rows x 34 columns]\n"
     ]
    }
   ],
   "source": [
    "print(df.iloc[0:350,0:33])"
   ]
  },
  {
   "cell_type": "markdown",
   "metadata": {},
   "source": [
    "# Spliting the Data Set"
   ]
  },
  {
   "cell_type": "code",
   "execution_count": 26,
   "metadata": {},
   "outputs": [
    {
     "name": "stdout",
     "output_type": "stream",
     "text": [
      "Before OverSampling, counts of label '1': 154\n",
      "Before OverSampling, counts of label '0': 81 \n",
      "\n"
     ]
    }
   ],
   "source": [
    "# Seperate inputs and outputs\n",
    "labels = df[34]\n",
    "inputs = df.drop([34],axis=1)\n",
    "\n",
    "# Seperate data into a training/test set\n",
    "input_train, input_test, output_train, output_test = train_test_split(inputs, \n",
    "                                                                      labels, test_size=0.33, \n",
    "                                                                      random_state=42)\n",
    "\n",
    "\n",
    "\n",
    "print(\"Before OverSampling, counts of label '1': {}\".format(sum(output_train==1)))\n",
    "print(\"Before OverSampling, counts of label '0': {} \\n\".format(sum(output_train==0)))"
   ]
  },
  {
   "cell_type": "markdown",
   "metadata": {},
   "source": [
    "# SVC Without PCA"
   ]
  },
  {
   "cell_type": "code",
   "execution_count": 27,
   "metadata": {},
   "outputs": [],
   "source": [
    "sm = SMOTE(random_state = 27, sampling_strategy = 1.0)\n",
    "input_train_res,output_train_res = sm.fit_resample(input_train,output_train)"
   ]
  },
  {
   "cell_type": "code",
   "execution_count": 28,
   "metadata": {},
   "outputs": [
    {
     "name": "stdout",
     "output_type": "stream",
     "text": [
      "After OverSampling, counts of label '1': 154\n",
      "After OverSampling, counts of label '0': 154 \n",
      "\n"
     ]
    }
   ],
   "source": [
    "print(\"After OverSampling, counts of label '1': {}\".format(sum(output_train_res==1)))\n",
    "print(\"After OverSampling, counts of label '0': {} \\n\".format(sum(output_train_res==0)))"
   ]
  },
  {
   "cell_type": "markdown",
   "metadata": {},
   "source": [
    "## SVC on the Original DataSet -- Without Resample"
   ]
  },
  {
   "cell_type": "code",
   "execution_count": 29,
   "metadata": {},
   "outputs": [
    {
     "name": "stdout",
     "output_type": "stream",
     "text": [
      "[[38  7]\n",
      " [ 0 71]]\n"
     ]
    }
   ],
   "source": [
    "from sklearn.svm import SVC\n",
    "modelOriginal = SVC()\n",
    "histOriginal = modelOriginal.fit(input_train,output_train)\n",
    "predictionsOriginal = modelOriginal.predict(input_test)\n",
    "confMatSVCOriginal = confusion_matrix(output_test,predictionsOriginal)\n",
    "print(confMatSVCOriginal)"
   ]
  },
  {
   "cell_type": "markdown",
   "metadata": {},
   "source": [
    "## SVC on the Resampled DataSet"
   ]
  },
  {
   "cell_type": "code",
   "execution_count": 30,
   "metadata": {},
   "outputs": [
    {
     "name": "stdout",
     "output_type": "stream",
     "text": [
      "[[41  4]\n",
      " [ 0 71]]\n"
     ]
    }
   ],
   "source": [
    "modelResample = SVC()\n",
    "histResample = modelResample.fit(input_train_res,output_train_res)\n",
    "predictionsResample = modelResample.predict(input_test)\n",
    "confMatSVCResample = confusion_matrix(output_test,predictionsResample)\n",
    "print(confMatSVCResample)"
   ]
  },
  {
   "cell_type": "markdown",
   "metadata": {},
   "source": [
    "# Introducing PCA"
   ]
  },
  {
   "cell_type": "code",
   "execution_count": 31,
   "metadata": {},
   "outputs": [
    {
     "data": {
      "image/png": "[encoded data removed]",
      "text/plain": [
       "<Figure size 432x288 with 1 Axes>"
      ]
     },
     "metadata": {
      "needs_background": "light"
     },
     "output_type": "display_data"
    },
    {
     "name": "stdout",
     "output_type": "stream",
     "text": [
      "(235, 34)\n",
      "(235, 17)\n"
     ]
    }
   ],
   "source": [
    "#Dimentioanlity reduction\n",
    "from sklearn.decomposition import PCA\n",
    "pca = PCA() \n",
    "\n",
    "input_train = pca.fit_transform(input_train)\n",
    "input_test = pca.transform(input_test)\n",
    "total=sum(pca.explained_variance_)\n",
    "\n",
    "plt.figure()\n",
    "plt.plot(np.cumsum(pca.explained_variance_ratio_))\n",
    "plt.xlabel('Number of Components')\n",
    "plt.ylabel('Variance (%)') #for each component\n",
    "plt.title('Ionosphere Dataset Explained Variance')\n",
    "plt.show()\n",
    "\n",
    "k=0\n",
    "current_variance=0\n",
    "while current_variance/total < 0.90:\n",
    "    current_variance += pca.explained_variance_[k]\n",
    "    k=k+1\n",
    "\n",
    "#Apply PCA with n_components\n",
    "pca = PCA(n_components=k)\n",
    "\n",
    "print(input_train.shape)\n",
    "input_train_PCA = pca.fit_transform(input_train)\n",
    "input_test_PCA = pca.transform(input_test)\n",
    "print(input_train_PCA.shape)"
   ]
  },
  {
   "cell_type": "markdown",
   "metadata": {},
   "source": [
    "## Using PCA on the original dataset without Resampling"
   ]
  },
  {
   "cell_type": "code",
   "execution_count": 32,
   "metadata": {},
   "outputs": [
    {
     "name": "stdout",
     "output_type": "stream",
     "text": [
      "[[39  6]\n",
      " [ 0 71]]\n"
     ]
    }
   ],
   "source": [
    "modelOriginalPCA = SVC()\n",
    "histOriginalPCA = modelOriginalPCA.fit(input_train_PCA,output_train)\n",
    "predictionsOriginalPCA = modelOriginalPCA.predict(input_test_PCA)\n",
    "confMatSVCOriginalPCA = confusion_matrix(output_test,predictionsOriginalPCA)\n",
    "print(confMatSVCOriginalPCA)"
   ]
  },
  {
   "cell_type": "markdown",
   "metadata": {},
   "source": [
    "## Using PCA with Resampling"
   ]
  },
  {
   "cell_type": "code",
   "execution_count": 33,
   "metadata": {},
   "outputs": [
    {
     "name": "stdout",
     "output_type": "stream",
     "text": [
      "(308, 34)\n",
      "(308, 17)\n",
      "[[41  4]\n",
      " [14 57]]\n"
     ]
    }
   ],
   "source": [
    "print(input_train_res.shape)\n",
    "input_train_res_PCA = pca.fit_transform(input_train_res)\n",
    "input_test_res_PCA = pca.transform(input_test)\n",
    "print(input_train_res_PCA.shape)\n",
    "\n",
    "modelResamplePCA = SVC()\n",
    "histResamplePCA = modelResamplePCA.fit(input_train_res_PCA,output_train_res)\n",
    "predictionsResamplePCA = modelResamplePCA.predict(input_test_PCA)\n",
    "confMatSVCResamplePCA = confusion_matrix(output_test,predictionsResamplePCA)\n",
    "print(confMatSVCResamplePCA)"
   ]
  },
  {
   "cell_type": "markdown",
   "metadata": {},
   "source": [
    "# Function to Find the Heidke Score from Confusion Matrix"
   ]
  },
  {
   "cell_type": "code",
   "execution_count": 40,
   "metadata": {},
   "outputs": [],
   "source": [
    "def findHeidkeScore(confMat):\n",
    "    TP = confMat[1][1]\n",
    "    TN = confMat[0][0]\n",
    "    FN = confMat[1][0]\n",
    "    FP = confMat[0][1]\n",
    "    HSS = 2.*((TP*TN) - (FN*FP))/((TP + FN)*(FN + TN) + (TP + FP)*(FP + TN)) # Heidke Skill Score\n",
    "    #TSS = (TP/(TP + FN)) - (FP/(FP + TN)) # True Skill Score\n",
    "    #BIAS = (TP + FP)/(TP + FN) # Bias of Detection\n",
    "    #POD = TP/(TP + FN) # Probability of Detection\n",
    "    #POFD = FP/(TN + FP) # Probablity of False Detection\n",
    "    #FAR = FP/(TP + FP) # False Alarm Ratio\n",
    "    #TS = TP/(TP + FN + FP) # Threat Score\n",
    "    #OR = (TP*TN)/(FN*FP) # Odds Ratio\n",
    "    return HSS\n",
    "\n",
    "def findThreatScore(confMat):\n",
    "    #How well did the forecast \"yes\" events correspond to the observed \"yes\" events?\n",
    "    TP = confMat[1][1]\n",
    "    TN = confMat[0][0]\n",
    "    FN = confMat[1][0]\n",
    "    FP = confMat[0][1]\n",
    "    TS = TP/(TP+FN+FP)\n",
    "    return TS"
   ]
  },
  {
   "cell_type": "code",
   "execution_count": 41,
   "metadata": {},
   "outputs": [
    {
     "name": "stdout",
     "output_type": "stream",
     "text": [
      "HSS - SVC on Origianl Dataset: 0.8692010309278351 TSS - SVC on Origianl Dataset: 0.9102564102564102\n",
      "HSS - SVC on Resampled Dataset: 0.926185173401209 TSS - SVC on Resampled Dataset: 0.9466666666666667\n",
      "HSS - SVC on Original Dataset with PCA: 0.888354186717998 TSS - SVC on Original Dataset with PCA: 0.922077922077922\n",
      "HSS - SVC on Resampled Dataset with PCA: 0.686015037593985 TSS - SVC on Resampled Dataset with PCA: 0.76\n"
     ]
    }
   ],
   "source": [
    "print('HSS - SVC on Origianl Dataset:',findHeidkeScore(confMatSVCOriginal),'TSS - SVC on Origianl Dataset:',findThreatScore(confMatSVCOriginal))\n",
    "print('HSS - SVC on Resampled Dataset:',findHeidkeScore(confMatSVCResample),'TSS - SVC on Resampled Dataset:',findThreatScore(confMatSVCResample))\n",
    "print('HSS - SVC on Original Dataset with PCA:',findHeidkeScore(confMatSVCOriginalPCA),'TSS - SVC on Original Dataset with PCA:',findThreatScore(confMatSVCOriginalPCA))\n",
    "print('HSS - SVC on Resampled Dataset with PCA:',findHeidkeScore(confMatSVCResamplePCA),'TSS - SVC on Resampled Dataset with PCA:',findThreatScore(confMatSVCResamplePCA))\n"
   ]
  },
  {
   "cell_type": "markdown",
   "metadata": {},
   "source": [
    "# Using RFC"
   ]
  },
  {
   "cell_type": "code",
   "execution_count": 54,
   "metadata": {},
   "outputs": [
    {
     "name": "stdout",
     "output_type": "stream",
     "text": [
      "[[40  5]\n",
      " [21 50]]\n",
      "\n",
      "accuracy_score : 0.7758620689655172\n",
      "HSS - RFC on Resampled Dataset with PCA: 0.5568615927123126 TSS - RFC on Resampled Dataset with PCA: 0.6578947368421053\n"
     ]
    }
   ],
   "source": [
    "from sklearn.ensemble import RandomForestClassifier\n",
    "\n",
    "modelRFC = RandomForestClassifier(max_depth=20, random_state=0)\n",
    "modelRFC.fit(input_train_res_PCA,output_train_res)\n",
    "predictRFCResamplePCA = modelRFC.predict(input_test_PCA)\n",
    "confMatRFCResamplePCA = confusion_matrix(output_test,predictRFCResamplePCA)\n",
    "print(confMatRFCResamplePCA)\n",
    "print (\"\\naccuracy_score :\",accuracy_score(output_test,predictRFCResamplePCA))\n",
    "print('HSS - RFC on Resampled Dataset with PCA:',findHeidkeScore(confMatRFCResamplePCA),\n",
    "      'TSS - RFC on Resampled Dataset with PCA:',findThreatScore(confMatRFCResamplePCA))\n",
    "\n"
   ]
  },
  {
   "cell_type": "markdown",
   "metadata": {},
   "source": [
    "# Using NN"
   ]
  },
  {
   "cell_type": "code",
   "execution_count": 34,
   "metadata": {},
   "outputs": [
    {
     "name": "stdout",
     "output_type": "stream",
     "text": [
      "Model: \"sequential_2\"\n",
      "_________________________________________________________________\n",
      "Layer (type)                 Output Shape              Param #   \n",
      "=================================================================\n",
      "dense_6 (Dense)              (None, 17)                306       \n",
      "_________________________________________________________________\n",
      "dense_7 (Dense)              (None, 32)                576       \n",
      "_________________________________________________________________\n",
      "dense_8 (Dense)              (None, 1)                 33        \n",
      "=================================================================\n",
      "Total params: 915\n",
      "Trainable params: 915\n",
      "Non-trainable params: 0\n",
      "_________________________________________________________________\n",
      "None\n",
      "Train on 308 samples, validate on 116 samples\n",
      "Epoch 1/20\n",
      "308/308 - 3s - loss: 0.5645 - accuracy: 0.7468 - val_loss: 0.6809 - val_accuracy: 0.6724\n",
      "Epoch 2/20\n",
      "308/308 - 1s - loss: 0.3468 - accuracy: 0.8961 - val_loss: 0.7210 - val_accuracy: 0.6724\n",
      "Epoch 3/20\n",
      "308/308 - 1s - loss: 0.2412 - accuracy: 0.9188 - val_loss: 0.7662 - val_accuracy: 0.7155\n",
      "Epoch 4/20\n",
      "308/308 - 1s - loss: 0.1896 - accuracy: 0.9318 - val_loss: 0.8030 - val_accuracy: 0.7155\n",
      "Epoch 5/20\n",
      "308/308 - 1s - loss: 0.1630 - accuracy: 0.9318 - val_loss: 0.8341 - val_accuracy: 0.7328\n",
      "Epoch 6/20\n",
      "308/308 - 1s - loss: 0.1417 - accuracy: 0.9383 - val_loss: 0.8293 - val_accuracy: 0.7672\n",
      "Epoch 7/20\n",
      "308/308 - 1s - loss: 0.1251 - accuracy: 0.9448 - val_loss: 0.8887 - val_accuracy: 0.7328\n",
      "Epoch 8/20\n",
      "308/308 - 1s - loss: 0.1154 - accuracy: 0.9513 - val_loss: 0.8619 - val_accuracy: 0.7759\n",
      "Epoch 9/20\n",
      "308/308 - 1s - loss: 0.1028 - accuracy: 0.9675 - val_loss: 0.8965 - val_accuracy: 0.7845\n",
      "Epoch 10/20\n",
      "308/308 - 1s - loss: 0.0942 - accuracy: 0.9610 - val_loss: 0.9358 - val_accuracy: 0.7500\n",
      "Epoch 11/20\n",
      "308/308 - 1s - loss: 0.0896 - accuracy: 0.9708 - val_loss: 0.9650 - val_accuracy: 0.7672\n",
      "Epoch 12/20\n",
      "308/308 - 1s - loss: 0.0803 - accuracy: 0.9708 - val_loss: 0.9638 - val_accuracy: 0.7500\n",
      "Epoch 13/20\n",
      "308/308 - 1s - loss: 0.0758 - accuracy: 0.9740 - val_loss: 1.0228 - val_accuracy: 0.7672\n",
      "Epoch 14/20\n",
      "308/308 - 1s - loss: 0.0717 - accuracy: 0.9740 - val_loss: 1.0407 - val_accuracy: 0.7500\n",
      "Epoch 15/20\n",
      "308/308 - 1s - loss: 0.0658 - accuracy: 0.9740 - val_loss: 1.1082 - val_accuracy: 0.7414\n",
      "Epoch 16/20\n",
      "308/308 - 1s - loss: 0.0614 - accuracy: 0.9773 - val_loss: 1.1940 - val_accuracy: 0.7414\n",
      "Epoch 17/20\n",
      "308/308 - 1s - loss: 0.0595 - accuracy: 0.9805 - val_loss: 1.1963 - val_accuracy: 0.7586\n",
      "Epoch 18/20\n",
      "308/308 - 1s - loss: 0.0555 - accuracy: 0.9805 - val_loss: 1.2405 - val_accuracy: 0.7155\n",
      "Epoch 19/20\n",
      "308/308 - 1s - loss: 0.0527 - accuracy: 0.9805 - val_loss: 1.3046 - val_accuracy: 0.7500\n",
      "Epoch 20/20\n",
      "308/308 - 1s - loss: 0.0490 - accuracy: 0.9870 - val_loss: 1.3577 - val_accuracy: 0.7069\n"
     ]
    }
   ],
   "source": [
    "from tensorflow import keras\n",
    "from tensorflow.keras.callbacks import TensorBoard\n",
    "#import tensorboard\n",
    "#from tensorboard.callbacks import TensorBoard\n",
    "import time\n",
    "NAME = \"ionoSphere_data-{}\".format(int(time.time()))\n",
    "\n",
    "tensorboard = TensorBoard(log_dir='logs/{}'.format(NAME))\n",
    "\n",
    "\n",
    "\n",
    "\n",
    "inputTrainTest, inputVal, outputTrainTest, outputVal = train_test_split(inputs, \n",
    "                                                                      labels, test_size=0.2, \n",
    "                                                                      random_state=42)\n",
    "\n",
    "\n",
    "\n",
    "\n",
    "modelNN = keras.Sequential()\n",
    "modelNN.add(keras.layers.Dense(17,input_dim=17,activation='relu'))\n",
    "modelNN.add(keras.layers.Dense(32,activation='relu'))\n",
    "modelNN.add(keras.layers.Dense(1,activation='sigmoid'))\n",
    "print(modelNN.summary())\n",
    "modelNN.compile(loss='binary_crossentropy',\n",
    "              optimizer='adam',\n",
    "              metrics=['accuracy'])\n",
    "histNN = modelNN.fit(np.asarray(input_train_res_PCA),\n",
    "                     np.asarray(output_train_res),\n",
    "                     epochs=20,batch_size=1,\n",
    "                     validation_data=(np.asarray(input_test_PCA), \n",
    "                                      np.asarray(output_test)),\n",
    "                     verbose=2,\n",
    "                     callbacks = [tensorboard]\n",
    "                    )\n"
   ]
  },
  {
   "cell_type": "code",
   "execution_count": 36,
   "metadata": {},
   "outputs": [
    {
     "name": "stdout",
     "output_type": "stream",
     "text": [
      "116/1 - 0s - loss: 1.1477 - accuracy: 0.7069\n"
     ]
    }
   ],
   "source": [
    "score = modelNN.evaluate(np.asarray(input_test_PCA), np.asarray(output_test), verbose=2)"
   ]
  },
  {
   "cell_type": "code",
   "execution_count": 55,
   "metadata": {},
   "outputs": [
    {
     "name": "stdout",
     "output_type": "stream",
     "text": [
      "116/1 - 0s\n",
      "[[26 19]\n",
      " [15 56]]\n",
      "HSS - NN on Resampled Dataset with PCA: 0.3725739739102768 TSS - NN on Resampled Dataset with PCA: 0.6222222222222222\n"
     ]
    }
   ],
   "source": [
    "predictions = modelNN.predict_classes(input_test_PCA, verbose = 2)\n",
    "confMatNNResamplePCA = confusion_matrix(output_test,predictions.ravel())\n",
    "print(confMatNNResamplePCA)\n",
    "#print (\"\\naccuracy_score :\",accuracy_score(output_test,predictRFCResamplePCA))\n",
    "print('HSS - NN on Resampled Dataset with PCA:',findHeidkeScore(confMatNNResamplePCA),\n",
    "      'TSS - NN on Resampled Dataset with PCA:',findThreatScore(confMatNNResamplePCA))"
   ]
  },
  {
   "cell_type": "markdown",
   "metadata": {},
   "source": [
    "# Pl. Ignore below mentioned codes"
   ]
  },
  {
   "cell_type": "code",
   "execution_count": 78,
   "metadata": {},
   "outputs": [
    {
     "name": "stdout",
     "output_type": "stream",
     "text": [
      "[1 1 1 0 1 1 1 1 1 1 0 0 0 0 1 0 1 0 1 0 1 0 0 1 1 0 0 0 0 1 1 1 1 1 1 0 1\n",
      " 1 0 1 1 1 1 0 1 0 0 1 0 1 1 0 0 1 0 1 1 1 1 0 0 0 0 1 1 1 1 1 1 1 0 1 1 1\n",
      " 1 1 0 0 0 1 1 1 1 1 1 1 1 0 0 0 1 0 0 1 1 1 0 1 1 1 0 1 1 1 0 1 0 0 1 1 0\n",
      " 1 0 1 0 0]\n",
      "(116,)\n",
      "(116,)\n"
     ]
    }
   ],
   "source": [
    "outputTestNP=np.asarray(output_test)\n",
    "print(outputTestNP)\n",
    "print(outputTestNP.shape)\n",
    "outputTestNP=outputTestNP.T\n",
    "print(outputTestNP.shape)"
   ]
  },
  {
   "cell_type": "code",
   "execution_count": 79,
   "metadata": {},
   "outputs": [
    {
     "name": "stdout",
     "output_type": "stream",
     "text": [
      "[1 1 1 0 1 1 1 1 1 1 0 1 1 0 1 0 0 0 0 0 1 0 0 1 1 0 1 0 0 1 1 1 0 1 0 0 1\n",
      " 0 0 0 0 0 1 0 1 1 0 1 1 1 1 1 0 0 0 1 0 1 1 1 0 0 0 1 1 1 0 0 1 1 0 1 1 1\n",
      " 0 1 1 0 1 0 0 1 1 1 1 1 1 0 0 1 1 0 0 0 1 1 0 1 1 1 0 1 1 1 1 0 0 0 1 1 1\n",
      " 0 1 1 0 0]\n"
     ]
    }
   ],
   "source": []
  },
  {
   "cell_type": "code",
   "execution_count": 46,
   "metadata": {},
   "outputs": [
    {
     "name": "stdout",
     "output_type": "stream",
     "text": [
      "[[-2.38703277  0.14618434  0.37593862 ...  0.09366966 -0.06555789\n",
      "  -0.03665249]\n",
      " [ 1.00748113 -0.98293212  0.90184493 ... -0.42357383 -0.0431981\n",
      "  -0.2440614 ]\n",
      " [ 1.67553819  2.73114519  0.46908314 ... -0.30426021  0.0147842\n",
      "  -0.1143759 ]\n",
      " ...\n",
      " [ 0.92481666  0.07656656 -0.50871365 ...  0.18506455 -0.12358857\n",
      "   0.37576084]\n",
      " [ 1.16762239  0.05869043 -0.87198119 ...  0.27896783 -0.15570482\n",
      "  -0.11885328]\n",
      " [-1.1163096  -0.45525502 -0.28090563 ...  0.3642258  -0.62217158\n",
      "  -0.08933785]]\n"
     ]
    },
    {
     "data": {
      "text/plain": [
       "(308, 17)"
      ]
     },
     "execution_count": 46,
     "metadata": {},
     "output_type": "execute_result"
    }
   ],
   "source": []
  },
  {
   "cell_type": "code",
   "execution_count": 17,
   "metadata": {
    "scrolled": true
   },
   "outputs": [
    {
     "data": {
      "image/png": "[encoded data removed]",
      "text/plain": [
       "<Figure size 432x288 with 2 Axes>"
      ]
     },
     "metadata": {
      "needs_background": "light"
     },
     "output_type": "display_data"
    }
   ],
   "source": [
    "import seaborn as sns\n",
    "\n",
    "fig, ax = plt.subplots()\n",
    "\n",
    "sns.set(font_scale=1.4)\n",
    "sns.heatmap(confusion_matrix(output_test,predictions),annot=True,cmap=\"viridis\",fmt = \"d\",linecolor=\"k\",linewidths=3)\n",
    "ax.set_ylim([0,2])\n",
    "plt.xlabel(\"Predicted\",fontsize=20)\n",
    "plt.ylabel(\"Observed\",fontsize=20)\n",
    "plt.title(\"CONFUSION MATRIX\",fontsize=20)\n",
    "\n",
    "\n",
    "TP = SVC_conf[1][1]\n",
    "TN = SVC_conf[0][0]\n",
    "FN = SVC_conf[1][0]\n",
    "FP = SVC_conf[0][1]\n",
    "\n"
   ]
  },
  {
   "cell_type": "code",
   "execution_count": 18,
   "metadata": {},
   "outputs": [
    {
     "name": "stderr",
     "output_type": "stream",
     "text": [
      "/Users/Pramit/opt/miniconda3/envs/tensorflow/lib/python3.7/site-packages/ipykernel_launcher.py:8: RuntimeWarning: divide by zero encountered in long_scalars\n",
      "  \n"
     ]
    }
   ],
   "source": [
    "SVC_HSS = 2.*((TP*TN) - (FN*FP))/((TP + FN)*(FN + TN) + (TP + FP)*(FP + TN)) # Heidke Skill Score\n",
    "TSS = (TP/(TP + FN)) - (FP/(FP + TN)) # True Skill Score\n",
    "BIAS = (TP + FP)/(TP + FN) # Bias of Detection\n",
    "POD = TP/(TP + FN) # Probability of Detection\n",
    "POFD = FP/(TN + FP) # Probablity of False Detection\n",
    "FAR = FP/(TP + FP) # False Alarm Ratio\n",
    "TS = TP/(TP + FN + FP) # Threat Score\n",
    "OR = (TP*TN)/(FN*FP) # Odds Ratio"
   ]
  },
  {
   "cell_type": "code",
   "execution_count": 36,
   "metadata": {},
   "outputs": [
    {
     "name": "stdout",
     "output_type": "stream",
     "text": [
      "Accuracy mean: 0.9361702127659575\n",
      "Accuracy variance: 0.035602554320598986\n",
      "\n",
      "accuracy_score : 0.9396551724137931\n"
     ]
    }
   ],
   "source": [
    "accuracies = cross_val_score(estimator = model, X = input_train, y = output_train, cv = 5, n_jobs = -1)\n",
    "mean = accuracies.mean()\n",
    "variance = accuracies.std()\n",
    "print(\"Accuracy mean: \"+ str(mean))\n",
    "print(\"Accuracy variance: \"+ str(variance))\n",
    "\n",
    "# Accuracy\n",
    "print (\"\\naccuracy_score :\",accuracy_score(output_test, predictions))"
   ]
  },
  {
   "cell_type": "code",
   "execution_count": 37,
   "metadata": {},
   "outputs": [],
   "source": [
    "svc_conf = confusion_matrix(output_test,predictions)"
   ]
  },
  {
   "cell_type": "code",
   "execution_count": 38,
   "metadata": {},
   "outputs": [
    {
     "name": "stdout",
     "output_type": "stream",
     "text": [
      "[[38  7]\n",
      " [ 0 71]]\n"
     ]
    }
   ],
   "source": [
    "print(svc_conf)"
   ]
  },
  {
   "cell_type": "code",
   "execution_count": null,
   "metadata": {},
   "outputs": [],
   "source": []
  }
 ],
 "metadata": {
  "kernelspec": {
   "display_name": "Python 3.7 (tensorflow)",
   "language": "python",
   "name": "tensorflow"
  },
  "language_info": {
   "codemirror_mode": {
    "name": "ipython",
    "version": 3
   },
   "file_extension": ".py",
   "mimetype": "text/x-python",
   "name": "python",
   "nbconvert_exporter": "python",
   "pygments_lexer": "ipython3",
   "version": "3.7.6"
  }
 },
 "nbformat": 4,
 "nbformat_minor": 4
}
